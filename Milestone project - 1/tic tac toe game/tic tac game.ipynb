{
 "cells": [
  {
   "cell_type": "markdown",
   "metadata": {},
   "source": [
    "Every item in the list has to be tuple"
   ]
  },
  {
   "cell_type": "code",
   "execution_count": 1,
   "metadata": {},
   "outputs": [],
   "source": [
    "def playground_set():\n",
    "#this is for initialize the playground\n",
    "\tplayground = [[] for i in range(3)]\n",
    "\t#i - string number\n",
    "\t#j - column number \n",
    "\tfor i in range(3):\n",
    "\t    for j in range(3):\n",
    "\t        playground[i].append(' ')\n",
    "\n",
    "\treturn playground"
   ]
  },
  {
   "cell_type": "code",
   "execution_count": 2,
   "metadata": {},
   "outputs": [],
   "source": [
    "from IPython.display import clear_output\n",
    "\n",
    "def playground_print(playground):\n",
    "#list unpacking - you can unpack every sequence\n",
    "#this is for printing the playground\n",
    "    clear_output()\n",
    "    for i,j,k in playground:\n",
    "        print(i,j,k)"
   ]
  },
  {
   "cell_type": "code",
   "execution_count": 3,
   "metadata": {},
   "outputs": [],
   "source": [
    "def playground_check(player_number, player_marker, playground):\n",
    "#check the playground for winning conditions\n",
    "    free_slots = 0\n",
    "\n",
    "    if (playground[0][0] == player_marker and \n",
    "        playground[0][1] == player_marker and\n",
    "        playground[0][2] == player_marker):\n",
    "            print(f'Game over! Player-{player_number} win')\n",
    "            return True\n",
    "\n",
    "    elif (playground[0][0] == player_marker and \n",
    "        playground[1][0] == player_marker and\n",
    "        playground[2][0] == player_marker):\n",
    "            print(f'Game over! Player-{player_number} win')\n",
    "            return True\n",
    "\n",
    "    elif (playground[0][0] == player_marker and \n",
    "        playground[1][1] == player_marker and\n",
    "        playground[2][2] == player_marker):\n",
    "            print(f'Game over! Player-{player_number} win')\n",
    "            return True\n",
    "\n",
    "    elif (playground[1][0] == player_marker and \n",
    "        playground[1][1] == player_marker and\n",
    "        playground[1][2] == player_marker):\n",
    "            print(f'Game over! Player-{player_number} win')\n",
    "            return True\n",
    "\n",
    "    elif (playground[2][0] == player_marker and \n",
    "        playground[2][1] == player_marker and\n",
    "        playground[2][2] == player_marker):\n",
    "            print(f'Game over! Player-{player_number} win')\n",
    "            return True\n",
    "\n",
    "    elif (playground[0][1] == player_marker and \n",
    "        playground[1][1] == player_marker and\n",
    "        playground[2][1] == player_marker):\n",
    "            print(f'Game over! Player-{player_number} win')\n",
    "            return True\n",
    "\n",
    "    elif (playground[0][2] == player_marker and \n",
    "        playground[1][2] == player_marker and\n",
    "        playground[2][2] == player_marker):\n",
    "            print(f'Game over! Player-{player_number} win')\n",
    "            return True\n",
    "\n",
    "    elif (playground[0][2] == player_marker and \n",
    "        playground[1][1] == player_marker and\n",
    "        playground[2][0] == player_marker):\n",
    "            print(f'Game over! Player-{player_number} win')\n",
    "            return True\n",
    "\n",
    "    else:\n",
    "        for i in range(3):\n",
    "            for j in range(3):\n",
    "                if playground[i][j] == ' ':\n",
    "                    free_slots +=1\n",
    "        \n",
    "        if free_slots == 1:\n",
    "            print(\"Game over! Nobody wins!\")\n",
    "            return True"
   ]
  },
  {
   "cell_type": "code",
   "execution_count": 4,
   "metadata": {},
   "outputs": [],
   "source": [
    "def player_marker_set():\n",
    "    \n",
    "    marker = ''\n",
    "    \n",
    "    while marker != 'X' and marker != 'O':\n",
    "        marker = input(\"Player 1: Choose X or O: \").upper()\n",
    "    \n",
    "    if marker == 'X':\n",
    "        return ('X','O')\n",
    "    else:\n",
    "        return ('O','X')"
   ]
  },
  {
   "cell_type": "code",
   "execution_count": 5,
   "metadata": {},
   "outputs": [],
   "source": [
    "def players_input(playground):\n",
    "    args = []\n",
    "    while True:\n",
    "        player_input = input()\n",
    "        #i = player_input.split()[0]\n",
    "        #j = player_input.split()[1]\n",
    "        \n",
    "        if players_input_check(player_input) != False:\n",
    "            i = int(player_input[0])\n",
    "            j = int(player_input[2])\n",
    "            if playground_slot_check(playground,i,j):\n",
    "                return i,j"
   ]
  },
  {
   "cell_type": "code",
   "execution_count": 6,
   "metadata": {},
   "outputs": [],
   "source": [
    "def players_input_check(args):\n",
    "    if len(args) != 3:\n",
    "        print(\"Enter [i]space[j], where i - string, j - column\")\n",
    "        return False\n",
    "    \n",
    "    if (args[0] in ['0','1','2'] and\n",
    "        args[2] in ['0','1','2']):\n",
    "            return args[0], args[2]\n",
    "    \n",
    "    else:\n",
    "        print(\"Enter 0,1,2 please\")\n",
    "        return False\n"
   ]
  },
  {
   "cell_type": "code",
   "execution_count": 7,
   "metadata": {},
   "outputs": [],
   "source": [
    "def playground_slot_check(playground,i,j):\n",
    "    if playground[i][j] in ['X','O']:\n",
    "        print(\"This slot already set! Please choose another:\")\n",
    "        return False\n",
    "    else:\n",
    "        return True"
   ]
  },
  {
   "cell_type": "code",
   "execution_count": 8,
   "metadata": {},
   "outputs": [],
   "source": [
    "def players_turn(player_number,player_marker,playground):\n",
    "    #player's turn\n",
    "    \n",
    "    if player_number == '1':\n",
    "        print(f\"Player {player_number} turn:\")\n",
    "        i,j = players_input(playground)\n",
    "        playground[i][j] = player_marker\n",
    "    elif player_number == '2':\n",
    "        print(f\"Player {player_number} turn:\")\n",
    "        i,j = players_input(playground)\n",
    "        playground[i][j] = player_marker\n",
    "    \n",
    "    playground_print(playground)\n",
    "\n",
    "    return playground_check(player_number,player_marker,playground)"
   ]
  },
  {
   "cell_type": "code",
   "execution_count": 12,
   "metadata": {},
   "outputs": [],
   "source": [
    "def replay():\n",
    "    replay = input(\"Want to play again?(Yes or No:\")\n",
    "    \n",
    "    if replay == 'Yes':\n",
    "        return True"
   ]
  },
  {
   "cell_type": "code",
   "execution_count": 10,
   "metadata": {},
   "outputs": [],
   "source": [
    "import random\n",
    "\n",
    "def game():\n",
    "    playground = playground_set()\n",
    "    player_1_marker, player_2_marker = player_marker_set()\n",
    "    flip = random.randint(0,1)\n",
    "    \n",
    "    if flip == 0:\n",
    "        while (players_turn('1',player_1_marker, playground) != True and \n",
    "               players_turn('2',player_2_marker, playground) !=True):\n",
    "                continue\n",
    "        \n",
    "    else:\n",
    "        while (players_turn('2',player_2_marker, playground) != True and \n",
    "               players_turn('1',player_1_marker, playground) !=True):\n",
    "                continue\n",
    "    \n",
    "    if replay():\n",
    "        game()"
   ]
  },
  {
   "cell_type": "code",
   "execution_count": 11,
   "metadata": {},
   "outputs": [
    {
     "name": "stdout",
     "output_type": "stream",
     "text": [
      "X X X\n",
      "O O  \n",
      "O    \n",
      "Game over! Player-1 win\n",
      "Want to play again?:No\n"
     ]
    }
   ],
   "source": [
    "game()"
   ]
  },
  {
   "cell_type": "code",
   "execution_count": null,
   "metadata": {},
   "outputs": [],
   "source": []
  }
 ],
 "metadata": {
  "kernelspec": {
   "display_name": "Python 3",
   "language": "python",
   "name": "python3"
  },
  "language_info": {
   "codemirror_mode": {
    "name": "ipython",
    "version": 3
   },
   "file_extension": ".py",
   "mimetype": "text/x-python",
   "name": "python",
   "nbconvert_exporter": "python",
   "pygments_lexer": "ipython3",
   "version": "3.7.3"
  }
 },
 "nbformat": 4,
 "nbformat_minor": 2
}
